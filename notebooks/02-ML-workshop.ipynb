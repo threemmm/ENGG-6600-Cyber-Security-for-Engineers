{
 "cells": [
  {
   "cell_type": "markdown",
   "metadata": {
    "id": "2cfUjrudy74S"
   },
   "source": [
    "# Machine Learning Workshop\n"
   ]
  },
  {
   "cell_type": "markdown",
   "metadata": {
    "id": "6HDq-Chky3xC"
   },
   "source": [
    "### Challenges"
   ]
  },
  {
   "cell_type": "markdown",
   "metadata": {
    "id": "UHujA2ZVy938"
   },
   "source": [
    "#### Imbalanced data"
   ]
  },
  {
   "cell_type": "markdown",
   "metadata": {
    "id": "0IpmwCj2zB3E"
   },
   "source": [
    "When observation in one class is higher than observation in other classes."
   ]
  },
  {
   "cell_type": "code",
   "execution_count": 300,
   "metadata": {
    "id": "5zQ3pU0F674J"
   },
   "outputs": [],
   "source": [
    "import numpy as np\n",
    "import pandas as pd\n",
    "\n",
    "from sklearn import metrics\n",
    "from sklearn.model_selection import train_test_split\n",
    "from sklearn.tree import DecisionTreeClassifier # Import Decision Tree Classifier\n",
    "from tensorflow.keras.utils import to_categorical\n",
    "from keras.models import Sequential\n",
    "from keras.layers import Dense\n",
    "\n",
    "import matplotlib.pyplot as plt"
   ]
  },
  {
   "cell_type": "code",
   "execution_count": 285,
   "metadata": {
    "id": "RCRPfWSI7A75"
   },
   "outputs": [],
   "source": [
    "# loading the data\n",
    "data = pd.read_csv('data/credit-card.csv')"
   ]
  },
  {
   "cell_type": "code",
   "execution_count": 286,
   "metadata": {
    "colab": {
     "base_uri": "https://localhost:8080/",
     "height": 236
    },
    "id": "as4t6S_v7Cyh",
    "outputId": "473a78b3-66b9-4d18-cc75-7759ba0b39a7"
   },
   "outputs": [
    {
     "data": {
      "text/html": [
       "\n",
       "  <div id=\"df-230c4dd1-8216-49b7-bb4e-f3a05a2821a7\">\n",
       "    <div class=\"colab-df-container\">\n",
       "      <div>\n",
       "<style scoped>\n",
       "    .dataframe tbody tr th:only-of-type {\n",
       "        vertical-align: middle;\n",
       "    }\n",
       "\n",
       "    .dataframe tbody tr th {\n",
       "        vertical-align: top;\n",
       "    }\n",
       "\n",
       "    .dataframe thead th {\n",
       "        text-align: right;\n",
       "    }\n",
       "</style>\n",
       "<table border=\"1\" class=\"dataframe\">\n",
       "  <thead>\n",
       "    <tr style=\"text-align: right;\">\n",
       "      <th></th>\n",
       "      <th>Unnamed: 0</th>\n",
       "      <th>Time</th>\n",
       "      <th>V1</th>\n",
       "      <th>V2</th>\n",
       "      <th>V3</th>\n",
       "      <th>V4</th>\n",
       "      <th>V5</th>\n",
       "      <th>V6</th>\n",
       "      <th>V7</th>\n",
       "      <th>V8</th>\n",
       "      <th>...</th>\n",
       "      <th>V21</th>\n",
       "      <th>V22</th>\n",
       "      <th>V23</th>\n",
       "      <th>V24</th>\n",
       "      <th>V25</th>\n",
       "      <th>V26</th>\n",
       "      <th>V27</th>\n",
       "      <th>V28</th>\n",
       "      <th>Amount</th>\n",
       "      <th>Class</th>\n",
       "    </tr>\n",
       "  </thead>\n",
       "  <tbody>\n",
       "    <tr>\n",
       "      <th>0</th>\n",
       "      <td>541</td>\n",
       "      <td>406.0</td>\n",
       "      <td>-2.312227</td>\n",
       "      <td>1.951992</td>\n",
       "      <td>-1.609851</td>\n",
       "      <td>3.997906</td>\n",
       "      <td>-0.522188</td>\n",
       "      <td>-1.426545</td>\n",
       "      <td>-2.537387</td>\n",
       "      <td>1.391657</td>\n",
       "      <td>...</td>\n",
       "      <td>0.517232</td>\n",
       "      <td>-0.035049</td>\n",
       "      <td>-0.465211</td>\n",
       "      <td>0.320198</td>\n",
       "      <td>0.044519</td>\n",
       "      <td>0.177840</td>\n",
       "      <td>0.261145</td>\n",
       "      <td>-0.143276</td>\n",
       "      <td>0.00</td>\n",
       "      <td>1</td>\n",
       "    </tr>\n",
       "    <tr>\n",
       "      <th>1</th>\n",
       "      <td>623</td>\n",
       "      <td>472.0</td>\n",
       "      <td>-3.043541</td>\n",
       "      <td>-3.157307</td>\n",
       "      <td>1.088463</td>\n",
       "      <td>2.288644</td>\n",
       "      <td>1.359805</td>\n",
       "      <td>-1.064823</td>\n",
       "      <td>0.325574</td>\n",
       "      <td>-0.067794</td>\n",
       "      <td>...</td>\n",
       "      <td>0.661696</td>\n",
       "      <td>0.435477</td>\n",
       "      <td>1.375966</td>\n",
       "      <td>-0.293803</td>\n",
       "      <td>0.279798</td>\n",
       "      <td>-0.145362</td>\n",
       "      <td>-0.252773</td>\n",
       "      <td>0.035764</td>\n",
       "      <td>529.00</td>\n",
       "      <td>1</td>\n",
       "    </tr>\n",
       "    <tr>\n",
       "      <th>2</th>\n",
       "      <td>4920</td>\n",
       "      <td>4462.0</td>\n",
       "      <td>-2.303350</td>\n",
       "      <td>1.759247</td>\n",
       "      <td>-0.359745</td>\n",
       "      <td>2.330243</td>\n",
       "      <td>-0.821628</td>\n",
       "      <td>-0.075788</td>\n",
       "      <td>0.562320</td>\n",
       "      <td>-0.399147</td>\n",
       "      <td>...</td>\n",
       "      <td>-0.294166</td>\n",
       "      <td>-0.932391</td>\n",
       "      <td>0.172726</td>\n",
       "      <td>-0.087330</td>\n",
       "      <td>-0.156114</td>\n",
       "      <td>-0.542628</td>\n",
       "      <td>0.039566</td>\n",
       "      <td>-0.153029</td>\n",
       "      <td>239.93</td>\n",
       "      <td>1</td>\n",
       "    </tr>\n",
       "    <tr>\n",
       "      <th>3</th>\n",
       "      <td>6108</td>\n",
       "      <td>6986.0</td>\n",
       "      <td>-4.397974</td>\n",
       "      <td>1.358367</td>\n",
       "      <td>-2.592844</td>\n",
       "      <td>2.679787</td>\n",
       "      <td>-1.128131</td>\n",
       "      <td>-1.706536</td>\n",
       "      <td>-3.496197</td>\n",
       "      <td>-0.248778</td>\n",
       "      <td>...</td>\n",
       "      <td>0.573574</td>\n",
       "      <td>0.176968</td>\n",
       "      <td>-0.436207</td>\n",
       "      <td>-0.053502</td>\n",
       "      <td>0.252405</td>\n",
       "      <td>-0.657488</td>\n",
       "      <td>-0.827136</td>\n",
       "      <td>0.849573</td>\n",
       "      <td>59.00</td>\n",
       "      <td>1</td>\n",
       "    </tr>\n",
       "    <tr>\n",
       "      <th>4</th>\n",
       "      <td>6329</td>\n",
       "      <td>7519.0</td>\n",
       "      <td>1.234235</td>\n",
       "      <td>3.019740</td>\n",
       "      <td>-4.304597</td>\n",
       "      <td>4.732795</td>\n",
       "      <td>3.624201</td>\n",
       "      <td>-1.357746</td>\n",
       "      <td>1.713445</td>\n",
       "      <td>-0.496358</td>\n",
       "      <td>...</td>\n",
       "      <td>-0.379068</td>\n",
       "      <td>-0.704181</td>\n",
       "      <td>-0.656805</td>\n",
       "      <td>-1.632653</td>\n",
       "      <td>1.488901</td>\n",
       "      <td>0.566797</td>\n",
       "      <td>-0.010016</td>\n",
       "      <td>0.146793</td>\n",
       "      <td>1.00</td>\n",
       "      <td>1</td>\n",
       "    </tr>\n",
       "  </tbody>\n",
       "</table>\n",
       "<p>5 rows × 32 columns</p>\n",
       "</div>\n",
       "      <button class=\"colab-df-convert\" onclick=\"convertToInteractive('df-230c4dd1-8216-49b7-bb4e-f3a05a2821a7')\"\n",
       "              title=\"Convert this dataframe to an interactive table.\"\n",
       "              style=\"display:none;\">\n",
       "        \n",
       "  <svg xmlns=\"http://www.w3.org/2000/svg\" height=\"24px\"viewBox=\"0 0 24 24\"\n",
       "       width=\"24px\">\n",
       "    <path d=\"M0 0h24v24H0V0z\" fill=\"none\"/>\n",
       "    <path d=\"M18.56 5.44l.94 2.06.94-2.06 2.06-.94-2.06-.94-.94-2.06-.94 2.06-2.06.94zm-11 1L8.5 8.5l.94-2.06 2.06-.94-2.06-.94L8.5 2.5l-.94 2.06-2.06.94zm10 10l.94 2.06.94-2.06 2.06-.94-2.06-.94-.94-2.06-.94 2.06-2.06.94z\"/><path d=\"M17.41 7.96l-1.37-1.37c-.4-.4-.92-.59-1.43-.59-.52 0-1.04.2-1.43.59L10.3 9.45l-7.72 7.72c-.78.78-.78 2.05 0 2.83L4 21.41c.39.39.9.59 1.41.59.51 0 1.02-.2 1.41-.59l7.78-7.78 2.81-2.81c.8-.78.8-2.07 0-2.86zM5.41 20L4 18.59l7.72-7.72 1.47 1.35L5.41 20z\"/>\n",
       "  </svg>\n",
       "      </button>\n",
       "      \n",
       "  <style>\n",
       "    .colab-df-container {\n",
       "      display:flex;\n",
       "      flex-wrap:wrap;\n",
       "      gap: 12px;\n",
       "    }\n",
       "\n",
       "    .colab-df-convert {\n",
       "      background-color: #E8F0FE;\n",
       "      border: none;\n",
       "      border-radius: 50%;\n",
       "      cursor: pointer;\n",
       "      display: none;\n",
       "      fill: #1967D2;\n",
       "      height: 32px;\n",
       "      padding: 0 0 0 0;\n",
       "      width: 32px;\n",
       "    }\n",
       "\n",
       "    .colab-df-convert:hover {\n",
       "      background-color: #E2EBFA;\n",
       "      box-shadow: 0px 1px 2px rgba(60, 64, 67, 0.3), 0px 1px 3px 1px rgba(60, 64, 67, 0.15);\n",
       "      fill: #174EA6;\n",
       "    }\n",
       "\n",
       "    [theme=dark] .colab-df-convert {\n",
       "      background-color: #3B4455;\n",
       "      fill: #D2E3FC;\n",
       "    }\n",
       "\n",
       "    [theme=dark] .colab-df-convert:hover {\n",
       "      background-color: #434B5C;\n",
       "      box-shadow: 0px 1px 3px 1px rgba(0, 0, 0, 0.15);\n",
       "      filter: drop-shadow(0px 1px 2px rgba(0, 0, 0, 0.3));\n",
       "      fill: #FFFFFF;\n",
       "    }\n",
       "  </style>\n",
       "\n",
       "      <script>\n",
       "        const buttonEl =\n",
       "          document.querySelector('#df-230c4dd1-8216-49b7-bb4e-f3a05a2821a7 button.colab-df-convert');\n",
       "        buttonEl.style.display =\n",
       "          google.colab.kernel.accessAllowed ? 'block' : 'none';\n",
       "\n",
       "        async function convertToInteractive(key) {\n",
       "          const element = document.querySelector('#df-230c4dd1-8216-49b7-bb4e-f3a05a2821a7');\n",
       "          const dataTable =\n",
       "            await google.colab.kernel.invokeFunction('convertToInteractive',\n",
       "                                                     [key], {});\n",
       "          if (!dataTable) return;\n",
       "\n",
       "          const docLinkHtml = 'Like what you see? Visit the ' +\n",
       "            '<a target=\"_blank\" href=https://colab.research.google.com/notebooks/data_table.ipynb>data table notebook</a>'\n",
       "            + ' to learn more about interactive tables.';\n",
       "          element.innerHTML = '';\n",
       "          dataTable['output_type'] = 'display_data';\n",
       "          await google.colab.output.renderOutput(dataTable, element);\n",
       "          const docLink = document.createElement('div');\n",
       "          docLink.innerHTML = docLinkHtml;\n",
       "          element.appendChild(docLink);\n",
       "        }\n",
       "      </script>\n",
       "    </div>\n",
       "  </div>\n",
       "  "
      ],
      "text/plain": [
       "   Unnamed: 0    Time        V1        V2        V3        V4        V5  \\\n",
       "0         541   406.0 -2.312227  1.951992 -1.609851  3.997906 -0.522188   \n",
       "1         623   472.0 -3.043541 -3.157307  1.088463  2.288644  1.359805   \n",
       "2        4920  4462.0 -2.303350  1.759247 -0.359745  2.330243 -0.821628   \n",
       "3        6108  6986.0 -4.397974  1.358367 -2.592844  2.679787 -1.128131   \n",
       "4        6329  7519.0  1.234235  3.019740 -4.304597  4.732795  3.624201   \n",
       "\n",
       "         V6        V7        V8  ...       V21       V22       V23       V24  \\\n",
       "0 -1.426545 -2.537387  1.391657  ...  0.517232 -0.035049 -0.465211  0.320198   \n",
       "1 -1.064823  0.325574 -0.067794  ...  0.661696  0.435477  1.375966 -0.293803   \n",
       "2 -0.075788  0.562320 -0.399147  ... -0.294166 -0.932391  0.172726 -0.087330   \n",
       "3 -1.706536 -3.496197 -0.248778  ...  0.573574  0.176968 -0.436207 -0.053502   \n",
       "4 -1.357746  1.713445 -0.496358  ... -0.379068 -0.704181 -0.656805 -1.632653   \n",
       "\n",
       "        V25       V26       V27       V28  Amount  Class  \n",
       "0  0.044519  0.177840  0.261145 -0.143276    0.00      1  \n",
       "1  0.279798 -0.145362 -0.252773  0.035764  529.00      1  \n",
       "2 -0.156114 -0.542628  0.039566 -0.153029  239.93      1  \n",
       "3  0.252405 -0.657488 -0.827136  0.849573   59.00      1  \n",
       "4  1.488901  0.566797 -0.010016  0.146793    1.00      1  \n",
       "\n",
       "[5 rows x 32 columns]"
      ]
     },
     "execution_count": 286,
     "metadata": {},
     "output_type": "execute_result"
    }
   ],
   "source": [
    "data.head()"
   ]
  },
  {
   "cell_type": "code",
   "execution_count": 287,
   "metadata": {
    "colab": {
     "base_uri": "https://localhost:8080/"
    },
    "id": "rZJpxlNw7Eup",
    "outputId": "8016dee2-0b38-4868-cef3-50e6dd3eeea4"
   },
   "outputs": [
    {
     "data": {
      "text/plain": [
       "0    9000\n",
       "1     492\n",
       "Name: Class, dtype: int64"
      ]
     },
     "execution_count": 287,
     "metadata": {},
     "output_type": "execute_result"
    }
   ],
   "source": [
    "# check if the data balanced\n",
    "data.shape\n",
    "data.Class.value_counts()"
   ]
  },
  {
   "cell_type": "code",
   "execution_count": 288,
   "metadata": {
    "colab": {
     "base_uri": "https://localhost:8080/"
    },
    "id": "GHHe7OdY7G8q",
    "outputId": "76b7585d-2809-442f-a99b-6d229b022216"
   },
   "outputs": [
    {
     "name": "stdout",
     "output_type": "stream",
     "text": [
      "Fraudulent \"1\" : 492\n",
      "Not Fraudulent \"0\": 9000\n",
      "5.466666666666667\n"
     ]
    }
   ],
   "source": [
    "# check the number of 1s and 0s\n",
    "count = data['Class'].value_counts()\n",
    "\n",
    "print('Fraudulent \"1\" :', count[1])\n",
    "print('Not Fraudulent \"0\":', count[0])\n",
    "\n",
    "# print the percentage of question where target == 1\n",
    "print(count[1]/count[0]* 100)"
   ]
  },
  {
   "cell_type": "code",
   "execution_count": 293,
   "metadata": {
    "colab": {
     "base_uri": "https://localhost:8080/",
     "height": 278
    },
    "id": "KnYYLEJF7JyZ",
    "outputId": "602ecb0b-ddcf-480a-9ca0-00eaff900f5b"
   },
   "outputs": [
    {
     "data": {
      "image/png": "[encoded data removed]",
      "text/plain": [
       "<Figure size 432x288 with 1 Axes>"
      ]
     },
     "metadata": {
      "needs_background": "light"
     },
     "output_type": "display_data"
    }
   ],
   "source": [
    "# plot the no of 1's and 0's\n",
    "data['Class'].value_counts().plot(kind='bar', title='Count (target)')\n",
    "plt.show()"
   ]
  },
  {
   "cell_type": "code",
   "execution_count": 294,
   "metadata": {
    "colab": {
     "base_uri": "https://localhost:8080/"
    },
    "id": "tS1UwUUS8EyJ",
    "outputId": "86099a2c-9fda-4377-8f49-46667c21a5ca"
   },
   "outputs": [
    {
     "data": {
      "text/plain": [
       "Unnamed: 0    0\n",
       "Time          0\n",
       "V1            0\n",
       "V2            0\n",
       "V3            0\n",
       "V4            0\n",
       "V5            0\n",
       "V6            0\n",
       "V7            0\n",
       "V8            0\n",
       "V9            0\n",
       "V10           0\n",
       "V11           0\n",
       "V12           0\n",
       "V13           0\n",
       "V14           0\n",
       "V15           0\n",
       "V16           0\n",
       "V17           0\n",
       "V18           0\n",
       "V19           0\n",
       "V20           0\n",
       "V21           0\n",
       "V22           0\n",
       "V23           0\n",
       "V24           0\n",
       "V25           0\n",
       "V26           0\n",
       "V27           0\n",
       "V28           0\n",
       "Amount        0\n",
       "Class         0\n",
       "dtype: int64"
      ]
     },
     "execution_count": 294,
     "metadata": {},
     "output_type": "execute_result"
    }
   ],
   "source": [
    "# check for null values\n",
    "data.isnull().sum()"
   ]
  },
  {
   "cell_type": "code",
   "execution_count": 295,
   "metadata": {
    "colab": {
     "base_uri": "https://localhost:8080/"
    },
    "id": "la9GOldV8GHR",
    "outputId": "83c27769-ac10-4284-9ac9-8a1e2ee0b3e3"
   },
   "outputs": [
    {
     "data": {
      "text/plain": [
       "(492, 9000)"
      ]
     },
     "execution_count": 295,
     "metadata": {},
     "output_type": "execute_result"
    }
   ],
   "source": [
    "# extract features and labels\n",
    "X = data.iloc[:, :-1]\n",
    "y = data.iloc[:, -1]\n",
    "\n",
    "# check length of 1's and 0's\n",
    "one = np.where(y==1)\n",
    "zero = np.where(y==0)\n",
    "len(one[0]), len(zero[0])"
   ]
  },
  {
   "cell_type": "code",
   "execution_count": 296,
   "metadata": {
    "id": "2N8I3ULu8JAB"
   },
   "outputs": [],
   "source": [
    "#split train and test sets stratify ensures that the distribution of class labels in sets are the same is y (labels).\n",
    "X_train, X_test, y_train, y_test = train_test_split(X, y, stratify = y, test_size=0.2, random_state=42)"
   ]
  },
  {
   "cell_type": "code",
   "execution_count": 297,
   "metadata": {
    "id": "3Kr4vcqv8LG5"
   },
   "outputs": [],
   "source": [
    "#decision tree classifier\n",
    "clf_dt = DecisionTreeClassifier()\n",
    "clf_dt = clf_dt.fit(X_train, y_train)"
   ]
  },
  {
   "cell_type": "code",
   "execution_count": 299,
   "metadata": {
    "colab": {
     "base_uri": "https://localhost:8080/"
    },
    "id": "27aDnQQQ8Ydq",
    "outputId": "00c74157-4a51-45f2-88f8-0a8958b2bdc2"
   },
   "outputs": [
    {
     "name": "stdout",
     "output_type": "stream",
     "text": [
      "              precision    recall  f1-score   support\n",
      "\n",
      "           0       0.99      0.99      0.99      1801\n",
      "           1       0.85      0.84      0.85        98\n",
      "\n",
      "    accuracy                           0.98      1899\n",
      "   macro avg       0.92      0.91      0.92      1899\n",
      "weighted avg       0.98      0.98      0.98      1899\n",
      "\n"
     ]
    }
   ],
   "source": [
    "y_pred = clf_dt.predict(X_test)\n",
    "print(metrics.classification_report(y_test, y_pred))"
   ]
  },
  {
   "cell_type": "code",
   "execution_count": 303,
   "metadata": {
    "colab": {
     "base_uri": "https://localhost:8080/"
    },
    "id": "FGHdWNEb8pbh",
    "outputId": "4dd43bb4-e7d5-4feb-813f-1eddb3de3d04"
   },
   "outputs": [
    {
     "data": {
      "text/plain": [
       "array([[1787,   16],\n",
       "       [  14,   82]])"
      ]
     },
     "execution_count": 303,
     "metadata": {},
     "output_type": "execute_result"
    }
   ],
   "source": [
    "metrics.confusion_matrix(y_pred, y_test)"
   ]
  },
  {
   "cell_type": "code",
   "execution_count": 304,
   "metadata": {
    "id": "5EKda81B80_y"
   },
   "outputs": [],
   "source": [
    "# ANN\n",
    "\n",
    "# categorize labels\n",
    "y_train_cat = to_categorical(y_train, num_classes= 2)\n",
    "y_test_cat = to_categorical(y_test, num_classes= 2)"
   ]
  },
  {
   "cell_type": "code",
   "execution_count": 305,
   "metadata": {
    "colab": {
     "base_uri": "https://localhost:8080/"
    },
    "id": "kfpVqfH0819p",
    "outputId": "b1320e76-a9bb-4daf-e29a-5f928fa22937"
   },
   "outputs": [
    {
     "name": "stdout",
     "output_type": "stream",
     "text": [
      "Epoch 1/100\n",
      "119/119 [==============================] - 2s 9ms/step - loss: 0.1132 - accuracy: 0.8686\n",
      "Epoch 2/100\n",
      "119/119 [==============================] - 1s 9ms/step - loss: 0.0525 - accuracy: 0.9481\n",
      "Epoch 3/100\n",
      "119/119 [==============================] - 1s 4ms/step - loss: 0.0501 - accuracy: 0.9481\n",
      "Epoch 4/100\n",
      "119/119 [==============================] - 0s 2ms/step - loss: 0.0495 - accuracy: 0.9481\n",
      "Epoch 5/100\n",
      "119/119 [==============================] - 0s 2ms/step - loss: 0.0493 - accuracy: 0.9481\n",
      "Epoch 6/100\n",
      "119/119 [==============================] - 0s 2ms/step - loss: 0.0492 - accuracy: 0.9481\n",
      "Epoch 7/100\n",
      "119/119 [==============================] - 0s 2ms/step - loss: 0.0492 - accuracy: 0.9481\n",
      "Epoch 8/100\n",
      "119/119 [==============================] - 0s 2ms/step - loss: 0.0492 - accuracy: 0.9481\n",
      "Epoch 9/100\n",
      "119/119 [==============================] - 0s 2ms/step - loss: 0.0491 - accuracy: 0.9481\n",
      "Epoch 10/100\n",
      "119/119 [==============================] - 0s 2ms/step - loss: 0.0491 - accuracy: 0.9481\n",
      "Epoch 11/100\n",
      "119/119 [==============================] - 0s 2ms/step - loss: 0.0491 - accuracy: 0.9481\n",
      "Epoch 12/100\n",
      "119/119 [==============================] - 0s 2ms/step - loss: 0.0491 - accuracy: 0.9481\n",
      "Epoch 13/100\n",
      "119/119 [==============================] - 0s 2ms/step - loss: 0.0491 - accuracy: 0.9481\n",
      "Epoch 14/100\n",
      "119/119 [==============================] - 0s 2ms/step - loss: 0.0491 - accuracy: 0.9481\n",
      "Epoch 15/100\n",
      "119/119 [==============================] - 0s 2ms/step - loss: 0.0491 - accuracy: 0.9481\n",
      "Epoch 16/100\n",
      "119/119 [==============================] - 0s 2ms/step - loss: 0.0491 - accuracy: 0.9481\n",
      "Epoch 17/100\n",
      "119/119 [==============================] - 0s 2ms/step - loss: 0.0491 - accuracy: 0.9481\n",
      "Epoch 18/100\n",
      "119/119 [==============================] - 0s 2ms/step - loss: 0.0490 - accuracy: 0.9481\n",
      "Epoch 19/100\n",
      "119/119 [==============================] - 0s 2ms/step - loss: 0.0490 - accuracy: 0.9481\n",
      "Epoch 20/100\n",
      "119/119 [==============================] - 0s 2ms/step - loss: 0.0490 - accuracy: 0.9481\n",
      "Epoch 21/100\n",
      "119/119 [==============================] - 0s 2ms/step - loss: 0.0490 - accuracy: 0.9481\n",
      "Epoch 22/100\n",
      "119/119 [==============================] - 0s 2ms/step - loss: 0.0490 - accuracy: 0.9481\n",
      "Epoch 23/100\n",
      "119/119 [==============================] - 0s 2ms/step - loss: 0.0489 - accuracy: 0.9481\n",
      "Epoch 24/100\n",
      "119/119 [==============================] - 0s 2ms/step - loss: 0.0490 - accuracy: 0.9481\n",
      "Epoch 25/100\n",
      "119/119 [==============================] - 0s 2ms/step - loss: 0.0490 - accuracy: 0.9481\n",
      "Epoch 26/100\n",
      "119/119 [==============================] - 0s 2ms/step - loss: 0.0490 - accuracy: 0.9481\n",
      "Epoch 27/100\n",
      "119/119 [==============================] - 0s 2ms/step - loss: 0.0490 - accuracy: 0.9481\n",
      "Epoch 28/100\n",
      "119/119 [==============================] - 0s 2ms/step - loss: 0.0490 - accuracy: 0.9481\n",
      "Epoch 29/100\n",
      "119/119 [==============================] - 0s 2ms/step - loss: 0.0490 - accuracy: 0.9481\n",
      "Epoch 30/100\n",
      "119/119 [==============================] - 0s 2ms/step - loss: 0.0490 - accuracy: 0.9481\n",
      "Epoch 31/100\n",
      "119/119 [==============================] - 0s 2ms/step - loss: 0.0490 - accuracy: 0.9481\n",
      "Epoch 32/100\n",
      "119/119 [==============================] - 0s 2ms/step - loss: 0.0490 - accuracy: 0.9481\n",
      "Epoch 33/100\n",
      "119/119 [==============================] - 0s 2ms/step - loss: 0.0490 - accuracy: 0.9481\n",
      "Epoch 34/100\n",
      "119/119 [==============================] - 0s 2ms/step - loss: 0.0490 - accuracy: 0.9481\n",
      "Epoch 35/100\n",
      "119/119 [==============================] - 0s 2ms/step - loss: 0.0490 - accuracy: 0.9481\n",
      "Epoch 36/100\n",
      "119/119 [==============================] - 0s 2ms/step - loss: 0.0489 - accuracy: 0.9481\n",
      "Epoch 37/100\n",
      "119/119 [==============================] - 0s 2ms/step - loss: 0.0489 - accuracy: 0.9481\n",
      "Epoch 38/100\n",
      "119/119 [==============================] - 0s 2ms/step - loss: 0.0489 - accuracy: 0.9481\n",
      "Epoch 39/100\n",
      "119/119 [==============================] - 0s 2ms/step - loss: 0.0491 - accuracy: 0.9481\n",
      "Epoch 40/100\n",
      "119/119 [==============================] - 0s 2ms/step - loss: 0.0490 - accuracy: 0.9481\n",
      "Epoch 41/100\n",
      "119/119 [==============================] - 0s 2ms/step - loss: 0.0490 - accuracy: 0.9481\n",
      "Epoch 42/100\n",
      "119/119 [==============================] - 0s 2ms/step - loss: 0.0489 - accuracy: 0.9481\n",
      "Epoch 43/100\n",
      "119/119 [==============================] - 0s 2ms/step - loss: 0.0489 - accuracy: 0.9481\n",
      "Epoch 44/100\n",
      "119/119 [==============================] - 0s 2ms/step - loss: 0.0488 - accuracy: 0.9481\n",
      "Epoch 45/100\n",
      "119/119 [==============================] - 0s 2ms/step - loss: 0.0488 - accuracy: 0.9481\n",
      "Epoch 46/100\n",
      "119/119 [==============================] - 0s 2ms/step - loss: 0.0489 - accuracy: 0.9481\n",
      "Epoch 47/100\n",
      "119/119 [==============================] - 0s 2ms/step - loss: 0.0489 - accuracy: 0.9481\n",
      "Epoch 48/100\n",
      "119/119 [==============================] - 0s 2ms/step - loss: 0.0488 - accuracy: 0.9481\n",
      "Epoch 49/100\n",
      "119/119 [==============================] - 0s 2ms/step - loss: 0.0489 - accuracy: 0.9481\n",
      "Epoch 50/100\n",
      "119/119 [==============================] - 0s 2ms/step - loss: 0.0490 - accuracy: 0.9481\n",
      "Epoch 51/100\n",
      "119/119 [==============================] - 0s 2ms/step - loss: 0.0489 - accuracy: 0.9481\n",
      "Epoch 52/100\n",
      "119/119 [==============================] - 0s 2ms/step - loss: 0.0488 - accuracy: 0.9481\n",
      "Epoch 53/100\n",
      "119/119 [==============================] - 0s 2ms/step - loss: 0.0487 - accuracy: 0.9481\n",
      "Epoch 54/100\n",
      "119/119 [==============================] - 0s 2ms/step - loss: 0.0488 - accuracy: 0.9481\n",
      "Epoch 55/100\n",
      "119/119 [==============================] - 0s 2ms/step - loss: 0.0488 - accuracy: 0.9481\n",
      "Epoch 56/100\n",
      "119/119 [==============================] - 0s 2ms/step - loss: 0.0489 - accuracy: 0.9481\n",
      "Epoch 57/100\n",
      "119/119 [==============================] - 0s 2ms/step - loss: 0.0488 - accuracy: 0.9481\n",
      "Epoch 58/100\n",
      "119/119 [==============================] - 0s 2ms/step - loss: 0.0490 - accuracy: 0.9481\n",
      "Epoch 59/100\n",
      "119/119 [==============================] - 0s 2ms/step - loss: 0.0490 - accuracy: 0.9481\n",
      "Epoch 60/100\n",
      "119/119 [==============================] - 0s 2ms/step - loss: 0.0490 - accuracy: 0.9481\n",
      "Epoch 61/100\n",
      "119/119 [==============================] - 0s 2ms/step - loss: 0.0490 - accuracy: 0.9481\n",
      "Epoch 62/100\n",
      "119/119 [==============================] - 0s 2ms/step - loss: 0.0490 - accuracy: 0.9481\n",
      "Epoch 63/100\n",
      "119/119 [==============================] - 0s 2ms/step - loss: 0.0490 - accuracy: 0.9481\n",
      "Epoch 64/100\n",
      "119/119 [==============================] - 0s 4ms/step - loss: 0.0491 - accuracy: 0.9481\n",
      "Epoch 65/100\n",
      "119/119 [==============================] - 0s 3ms/step - loss: 0.0492 - accuracy: 0.9481\n",
      "Epoch 66/100\n",
      "119/119 [==============================] - 0s 4ms/step - loss: 0.0492 - accuracy: 0.9481\n",
      "Epoch 67/100\n",
      "119/119 [==============================] - 0s 4ms/step - loss: 0.0492 - accuracy: 0.9481\n",
      "Epoch 68/100\n",
      "119/119 [==============================] - 1s 5ms/step - loss: 0.0492 - accuracy: 0.9481\n",
      "Epoch 69/100\n",
      "119/119 [==============================] - 0s 2ms/step - loss: 0.0492 - accuracy: 0.9481\n",
      "Epoch 70/100\n",
      "119/119 [==============================] - 0s 4ms/step - loss: 0.0492 - accuracy: 0.9481\n",
      "Epoch 71/100\n",
      "119/119 [==============================] - 1s 4ms/step - loss: 0.0492 - accuracy: 0.9481\n",
      "Epoch 72/100\n",
      "119/119 [==============================] - 0s 4ms/step - loss: 0.0492 - accuracy: 0.9481\n",
      "Epoch 73/100\n",
      "119/119 [==============================] - 0s 4ms/step - loss: 0.0492 - accuracy: 0.9481\n",
      "Epoch 74/100\n",
      "119/119 [==============================] - 0s 3ms/step - loss: 0.0492 - accuracy: 0.9481\n",
      "Epoch 75/100\n",
      "119/119 [==============================] - 1s 7ms/step - loss: 0.0492 - accuracy: 0.9481\n",
      "Epoch 76/100\n",
      "119/119 [==============================] - 1s 8ms/step - loss: 0.0492 - accuracy: 0.9481\n",
      "Epoch 77/100\n",
      "119/119 [==============================] - 1s 4ms/step - loss: 0.0492 - accuracy: 0.9481\n",
      "Epoch 78/100\n",
      "119/119 [==============================] - 0s 4ms/step - loss: 0.0492 - accuracy: 0.9481\n",
      "Epoch 79/100\n",
      "119/119 [==============================] - 1s 5ms/step - loss: 0.0492 - accuracy: 0.9481\n",
      "Epoch 80/100\n",
      "119/119 [==============================] - 0s 4ms/step - loss: 0.0492 - accuracy: 0.9481\n",
      "Epoch 81/100\n",
      "119/119 [==============================] - 1s 5ms/step - loss: 0.0492 - accuracy: 0.9481\n",
      "Epoch 82/100\n",
      "119/119 [==============================] - 1s 6ms/step - loss: 0.0492 - accuracy: 0.9481\n",
      "Epoch 83/100\n",
      "119/119 [==============================] - 1s 6ms/step - loss: 0.0492 - accuracy: 0.9481\n",
      "Epoch 84/100\n",
      "119/119 [==============================] - 1s 5ms/step - loss: 0.0492 - accuracy: 0.9481\n",
      "Epoch 85/100\n",
      "119/119 [==============================] - 0s 3ms/step - loss: 0.0492 - accuracy: 0.9481\n",
      "Epoch 86/100\n",
      "119/119 [==============================] - 1s 5ms/step - loss: 0.0492 - accuracy: 0.9481\n",
      "Epoch 87/100\n",
      "119/119 [==============================] - 1s 4ms/step - loss: 0.0492 - accuracy: 0.9481\n",
      "Epoch 88/100\n",
      "119/119 [==============================] - 1s 4ms/step - loss: 0.0492 - accuracy: 0.9481\n",
      "Epoch 89/100\n",
      "119/119 [==============================] - 0s 4ms/step - loss: 0.0492 - accuracy: 0.9481\n",
      "Epoch 90/100\n",
      "119/119 [==============================] - 1s 5ms/step - loss: 0.0492 - accuracy: 0.9481\n",
      "Epoch 91/100\n",
      "119/119 [==============================] - 0s 3ms/step - loss: 0.0492 - accuracy: 0.9481\n",
      "Epoch 92/100\n",
      "119/119 [==============================] - 0s 2ms/step - loss: 0.0492 - accuracy: 0.9481\n",
      "Epoch 93/100\n",
      "119/119 [==============================] - 0s 2ms/step - loss: 0.0492 - accuracy: 0.9481\n",
      "Epoch 94/100\n",
      "119/119 [==============================] - 0s 2ms/step - loss: 0.0492 - accuracy: 0.9481\n",
      "Epoch 95/100\n",
      "119/119 [==============================] - 0s 2ms/step - loss: 0.0492 - accuracy: 0.9481\n",
      "Epoch 96/100\n",
      "119/119 [==============================] - 0s 2ms/step - loss: 0.0492 - accuracy: 0.9481\n",
      "Epoch 97/100\n",
      "119/119 [==============================] - 0s 2ms/step - loss: 0.0492 - accuracy: 0.9481\n",
      "Epoch 98/100\n",
      "119/119 [==============================] - 0s 2ms/step - loss: 0.0492 - accuracy: 0.9481\n",
      "Epoch 99/100\n",
      "119/119 [==============================] - 0s 2ms/step - loss: 0.0492 - accuracy: 0.9481\n",
      "Epoch 100/100\n",
      "119/119 [==============================] - 0s 2ms/step - loss: 0.0492 - accuracy: 0.9481\n"
     ]
    },
    {
     "data": {
      "text/plain": [
       "<keras.callbacks.History at 0x7f96b6135d90>"
      ]
     },
     "execution_count": 305,
     "metadata": {},
     "output_type": "execute_result"
    }
   ],
   "source": [
    "#train ANN\n",
    "model_cat = Sequential()\n",
    "model_cat.add(Dense(64, activation= 'sigmoid', input_shape = (X_train.shape[1],)))\n",
    "model_cat.add(Dense(16, activation= 'sigmoid'))\n",
    "model_cat.add(Dense(2, activation = 'sigmoid'))\n",
    "\n",
    "model_cat.compile(loss = 'mse', optimizer = 'adam', metrics = ['accuracy'])\n",
    "model_cat.fit(X_train, y_train_cat, epochs = 100, batch_size = 64)"
   ]
  },
  {
   "cell_type": "code",
   "execution_count": 306,
   "metadata": {
    "colab": {
     "base_uri": "https://localhost:8080/"
    },
    "id": "_Zf9kZLd87s5",
    "outputId": "9c6dc3ca-fa7d-4817-8df8-8b41e9947ed7"
   },
   "outputs": [
    {
     "name": "stdout",
     "output_type": "stream",
     "text": [
      "60/60 [==============================] - 1s 6ms/step\n",
      "              precision    recall  f1-score   support\n",
      "\n",
      "           0       0.95      1.00      0.97      1801\n",
      "           1       0.00      0.00      0.00        98\n",
      "\n",
      "    accuracy                           0.95      1899\n",
      "   macro avg       0.47      0.50      0.49      1899\n",
      "weighted avg       0.90      0.95      0.92      1899\n",
      "\n"
     ]
    },
    {
     "name": "stderr",
     "output_type": "stream",
     "text": [
      "/usr/local/lib/python3.7/dist-packages/sklearn/metrics/_classification.py:1318: UndefinedMetricWarning: Precision and F-score are ill-defined and being set to 0.0 in labels with no predicted samples. Use `zero_division` parameter to control this behavior.\n",
      "  _warn_prf(average, modifier, msg_start, len(result))\n",
      "/usr/local/lib/python3.7/dist-packages/sklearn/metrics/_classification.py:1318: UndefinedMetricWarning: Precision and F-score are ill-defined and being set to 0.0 in labels with no predicted samples. Use `zero_division` parameter to control this behavior.\n",
      "  _warn_prf(average, modifier, msg_start, len(result))\n",
      "/usr/local/lib/python3.7/dist-packages/sklearn/metrics/_classification.py:1318: UndefinedMetricWarning: Precision and F-score are ill-defined and being set to 0.0 in labels with no predicted samples. Use `zero_division` parameter to control this behavior.\n",
      "  _warn_prf(average, modifier, msg_start, len(result))\n"
     ]
    }
   ],
   "source": [
    "# Evaluation\n",
    "y_pred = np.argmax(model_cat.predict(X_test), axis = 1)\n",
    "print(metrics.classification_report(y_test, y_pred))"
   ]
  },
  {
   "cell_type": "code",
   "execution_count": 308,
   "metadata": {
    "colab": {
     "base_uri": "https://localhost:8080/"
    },
    "id": "EeCgICKD9V_p",
    "outputId": "1644b0ab-4004-4c08-8615-4cbc33ec6894"
   },
   "outputs": [
    {
     "name": "stdout",
     "output_type": "stream",
     "text": [
      "[[1801   98]\n",
      " [   0    0]]\n"
     ]
    }
   ],
   "source": [
    "print(metrics.confusion_matrix(y_pred, y_test))"
   ]
  },
  {
   "cell_type": "markdown",
   "metadata": {
    "id": "VgCAWNoy7UTX"
   },
   "source": [
    "![pre-rec.PNG](data:image/png;base64,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)"
   ]
  },
  {
   "cell_type": "markdown",
   "metadata": {
    "id": "LtpKJydX7yt6"
   },
   "source": [
    "#### Handling imbalanced data"
   ]
  },
  {
   "cell_type": "markdown",
   "metadata": {
    "id": "s5KXQwK37zw6"
   },
   "source": [
    "* Ignore the minority class and convert binary classification to one-class classification.\n",
    "* Balancing the dataset using under-sampling and over-sampling techniques.\n",
    "* Handle the problem by modifying ML algorithms or add some data modifications like representation learning"
   ]
  },
  {
   "cell_type": "code",
   "execution_count": 309,
   "metadata": {
    "id": "2DXe13qN9fDd"
   },
   "outputs": [],
   "source": [
    "# class count\n",
    "class_count_0, class_count_1 = data['Class'].value_counts()\n",
    "\n",
    "# divie class\n",
    "class_0 = data[data['Class'] == 0]\n",
    "class_1 = data[data['Class'] == 1]"
   ]
  },
  {
   "cell_type": "code",
   "execution_count": 310,
   "metadata": {
    "colab": {
     "base_uri": "https://localhost:8080/"
    },
    "id": "xM2sR8VH9f8h",
    "outputId": "286afe9d-dfae-4603-ff4c-e2e2066fe531"
   },
   "outputs": [
    {
     "name": "stdout",
     "output_type": "stream",
     "text": [
      "class 0: (9000, 32)\n",
      "class 1: (492, 32)\n"
     ]
    }
   ],
   "source": [
    "# print the shape of the class\n",
    "print('class 0:', class_0.shape)\n",
    "print('class 1:', class_1.shape)"
   ]
  },
  {
   "cell_type": "markdown",
   "metadata": {
    "id": "FjqMOwX39JOJ"
   },
   "source": [
    "##### Random under-sampling"
   ]
  },
  {
   "cell_type": "code",
   "execution_count": 311,
   "metadata": {
    "colab": {
     "base_uri": "https://localhost:8080/",
     "height": 347
    },
    "id": "TQig11aO9i45",
    "outputId": "5af270fb-20a3-4e35-e699-9655f0e0fd19"
   },
   "outputs": [
    {
     "name": "stdout",
     "output_type": "stream",
     "text": [
      "total class of 1 and 0:\n",
      " 0    492\n",
      "1    492\n",
      "Name: Class, dtype: int64\n"
     ]
    },
    {
     "data": {
      "image/png": "[encoded data removed]",
      "text/plain": [
       "<Figure size 432x288 with 1 Axes>"
      ]
     },
     "metadata": {
      "needs_background": "light"
     },
     "output_type": "display_data"
    }
   ],
   "source": [
    "class_0_under = class_0.sample(class_count_1)\n",
    "\n",
    "test_under = pd.concat([class_0_under, class_1], axis=0)\n",
    "\n",
    "print(\"total class of 1 and 0:\\n\",test_under['Class'].value_counts())\n",
    "\n",
    "test_under['Class'].value_counts().plot(kind='bar', title='Count (target)')\n",
    "plt.show()"
   ]
  },
  {
   "cell_type": "markdown",
   "metadata": {
    "id": "xqb5Uhcg9Yy6"
   },
   "source": [
    "##### Random over-sampling"
   ]
  },
  {
   "cell_type": "code",
   "execution_count": 312,
   "metadata": {
    "colab": {
     "base_uri": "https://localhost:8080/",
     "height": 347
    },
    "id": "slK_lMB39oNJ",
    "outputId": "3a801075-86e4-4207-f468-b69b08f1c5ec"
   },
   "outputs": [
    {
     "name": "stdout",
     "output_type": "stream",
     "text": [
      "class count of 1 and 0:\n",
      " 1    9000\n",
      "0    9000\n",
      "Name: Class, dtype: int64\n"
     ]
    },
    {
     "data": {
      "image/png": "[encoded data removed]",
      "text/plain": [
       "<Figure size 432x288 with 1 Axes>"
      ]
     },
     "metadata": {
      "needs_background": "light"
     },
     "output_type": "display_data"
    }
   ],
   "source": [
    "class_1_over = class_1.sample(class_count_0, replace=True)\n",
    "\n",
    "test_under = pd.concat([class_1_over, class_0], axis=0)\n",
    "\n",
    "# print the number of class count\n",
    "print('class count of 1 and 0:\\n', test_under['Class'].value_counts())\n",
    "\n",
    "# plot the count\n",
    "test_under['Class'].value_counts().plot(kind='bar', title='Count (target)')\n",
    "plt.show()"
   ]
  },
  {
   "cell_type": "markdown",
   "metadata": {
    "id": "uPzsCOZD9vHu"
   },
   "source": [
    "#### Balance data with imbalance learn library"
   ]
  },
  {
   "cell_type": "code",
   "execution_count": 313,
   "metadata": {
    "id": "0wrhbdRR9d9i"
   },
   "outputs": [],
   "source": [
    "import imblearn\n",
    "imblearn."
   ]
  },
  {
   "cell_type": "markdown",
   "metadata": {
    "id": "8d7kPtiQ903m"
   },
   "source": [
    "##### Random under-sampling"
   ]
  },
  {
   "cell_type": "code",
   "execution_count": 317,
   "metadata": {
    "colab": {
     "base_uri": "https://localhost:8080/"
    },
    "id": "NUx7rwuv9wsZ",
    "outputId": "d8d4421b-5d79-404e-9e9f-a77ae7610ed1"
   },
   "outputs": [
    {
     "name": "stdout",
     "output_type": "stream",
     "text": [
      "original dataset shape:\n",
      " 0    9000\n",
      "1     492\n",
      "Name: Class, dtype: int64\n",
      "Resample dataset shape:\n",
      " 0    492\n",
      "1    492\n",
      "Name: Class, dtype: int64\n"
     ]
    }
   ],
   "source": [
    "# import library\n",
    "from imblearn.under_sampling import RandomUnderSampler\n",
    "\n",
    "rus = RandomUnderSampler(random_state=42, replacement=True)\n",
    "\n",
    "# fit predictor and target varialbe\n",
    "x_rus, y_rus = rus.fit_resample(X, y)\n",
    "\n",
    "print('original dataset shape:\\n', y.value_counts())\n",
    "print('Resample dataset shape:\\n', y_rus.value_counts())"
   ]
  },
  {
   "cell_type": "markdown",
   "metadata": {
    "id": "2R2vJmjD95fv"
   },
   "source": [
    "##### Random over-sampling"
   ]
  },
  {
   "cell_type": "code",
   "execution_count": 318,
   "metadata": {
    "colab": {
     "base_uri": "https://localhost:8080/"
    },
    "id": "QarJJ4uz-pJK",
    "outputId": "51ae3a8e-8e6d-4452-c1b9-9900738c6384"
   },
   "outputs": [
    {
     "name": "stdout",
     "output_type": "stream",
     "text": [
      "original dataset shape:\n",
      " 0    9000\n",
      "1     492\n",
      "Name: Class, dtype: int64\n",
      "Resample dataset shape:\n",
      " 1    9000\n",
      "0    9000\n",
      "Name: Class, dtype: int64\n"
     ]
    }
   ],
   "source": [
    "from imblearn.over_sampling import RandomOverSampler\n",
    "\n",
    "ros = RandomOverSampler(random_state=42)\n",
    "\n",
    "# fit predictor and target varaible\n",
    "x_ros, y_ros = ros.fit_resample(X, y)\n",
    "\n",
    "print('original dataset shape:\\n', y.value_counts())\n",
    "print('Resample dataset shape:\\n', y_ros.value_counts())"
   ]
  },
  {
   "cell_type": "markdown",
   "metadata": {
    "id": "TCg2Y3id-Ih7"
   },
   "source": [
    "###### Synthetic minority over-sampling"
   ]
  },
  {
   "cell_type": "code",
   "execution_count": 320,
   "metadata": {
    "colab": {
     "base_uri": "https://localhost:8080/"
    },
    "id": "xC2LFBqA-ucZ",
    "outputId": "94166ab8-2af6-4185-d7f7-8e47643f6589"
   },
   "outputs": [
    {
     "name": "stdout",
     "output_type": "stream",
     "text": [
      "original dataset shape:\n",
      " 0    9000\n",
      "1     492\n",
      "Name: Class, dtype: int64\n",
      "Resample dataset shape:\n",
      " 1    9000\n",
      "0    9000\n",
      "Name: Class, dtype: int64\n"
     ]
    }
   ],
   "source": [
    "from imblearn.over_sampling import SMOTE\n",
    "\n",
    "smote = SMOTE()\n",
    "\n",
    "# fit target and predictor variable\n",
    "x_smote , y_smote = smote.fit_resample(X, y)\n",
    "\n",
    "print('original dataset shape:\\n', y.value_counts())\n",
    "print('Resample dataset shape:\\n', y_smote.value_counts())"
   ]
  },
  {
   "cell_type": "code",
   "execution_count": 321,
   "metadata": {
    "id": "O1vEbX1P-_qJ"
   },
   "outputs": [],
   "source": [
    "#split train and test sets\n",
    "X_train, X_test, y_train, y_test = train_test_split(x_smote, y_smote, test_size=0.2, random_state=42)"
   ]
  },
  {
   "cell_type": "code",
   "execution_count": 322,
   "metadata": {
    "id": "eHc6E8mc_AwZ"
   },
   "outputs": [],
   "source": [
    "#decision tree classifier\n",
    "clf_dt = DecisionTreeClassifier()\n",
    "clf_dt = clf_dt.fit(X_train, y_train)"
   ]
  },
  {
   "cell_type": "code",
   "execution_count": 323,
   "metadata": {
    "colab": {
     "base_uri": "https://localhost:8080/"
    },
    "id": "75W7_MVO_Eah",
    "outputId": "1fd97c6f-d1db-4692-bcd0-ca267fa8bc3d"
   },
   "outputs": [
    {
     "name": "stdout",
     "output_type": "stream",
     "text": [
      "              precision    recall  f1-score   support\n",
      "\n",
      "           0       0.99      0.98      0.98      1813\n",
      "           1       0.98      0.99      0.98      1787\n",
      "\n",
      "    accuracy                           0.98      3600\n",
      "   macro avg       0.98      0.98      0.98      3600\n",
      "weighted avg       0.98      0.98      0.98      3600\n",
      "\n"
     ]
    }
   ],
   "source": [
    "# evaluate the model over test data\n",
    "y_pred = clf_dt.predict(X_test)\n",
    "print(metrics.classification_report(y_test, y_pred))"
   ]
  },
  {
   "cell_type": "code",
   "execution_count": 324,
   "metadata": {
    "colab": {
     "base_uri": "https://localhost:8080/"
    },
    "id": "nYhNsA3f_gLp",
    "outputId": "5ca38851-a80f-4ced-e3ec-b3be60df3fdb"
   },
   "outputs": [
    {
     "data": {
      "text/plain": [
       "array([[1774,   23],\n",
       "       [  39, 1764]])"
      ]
     },
     "execution_count": 324,
     "metadata": {},
     "output_type": "execute_result"
    }
   ],
   "source": [
    "metrics.confusion_matrix(y_pred, y_test)"
   ]
  },
  {
   "cell_type": "code",
   "execution_count": 325,
   "metadata": {
    "id": "FuAOuE19_p_x"
   },
   "outputs": [],
   "source": [
    "# ANN\n",
    "\n",
    "# categorize labels\n",
    "y_train_cat = to_categorical(y_train, num_classes= 2)\n",
    "y_test_cat = to_categorical(y_test, num_classes= 2)"
   ]
  },
  {
   "cell_type": "code",
   "execution_count": 326,
   "metadata": {
    "colab": {
     "base_uri": "https://localhost:8080/"
    },
    "id": "yGVH_JVc_sHy",
    "outputId": "52287be8-702a-4cec-efb6-026f228267dc"
   },
   "outputs": [
    {
     "name": "stdout",
     "output_type": "stream",
     "text": [
      "Epoch 1/100\n",
      "225/225 [==============================] - 1s 2ms/step - loss: 0.2508 - accuracy: 0.5197\n",
      "Epoch 2/100\n",
      "225/225 [==============================] - 0s 2ms/step - loss: 0.2482 - accuracy: 0.5405\n",
      "Epoch 3/100\n",
      "225/225 [==============================] - 0s 2ms/step - loss: 0.2470 - accuracy: 0.5423\n",
      "Epoch 4/100\n",
      "225/225 [==============================] - 0s 2ms/step - loss: 0.2460 - accuracy: 0.5471\n",
      "Epoch 5/100\n",
      "225/225 [==============================] - 0s 2ms/step - loss: 0.2452 - accuracy: 0.5598\n",
      "Epoch 6/100\n",
      "225/225 [==============================] - 0s 2ms/step - loss: 0.2452 - accuracy: 0.5542\n",
      "Epoch 7/100\n",
      "225/225 [==============================] - 0s 2ms/step - loss: 0.2444 - accuracy: 0.5522\n",
      "Epoch 8/100\n",
      "225/225 [==============================] - 0s 2ms/step - loss: 0.2433 - accuracy: 0.5576\n",
      "Epoch 9/100\n",
      "225/225 [==============================] - 0s 2ms/step - loss: 0.2448 - accuracy: 0.5443\n",
      "Epoch 10/100\n",
      "225/225 [==============================] - 0s 2ms/step - loss: 0.2453 - accuracy: 0.5391\n",
      "Epoch 11/100\n",
      "225/225 [==============================] - 0s 2ms/step - loss: 0.2456 - accuracy: 0.5253\n",
      "Epoch 12/100\n",
      "225/225 [==============================] - 0s 2ms/step - loss: 0.2450 - accuracy: 0.5314\n",
      "Epoch 13/100\n",
      "225/225 [==============================] - 0s 2ms/step - loss: 0.2442 - accuracy: 0.5456\n",
      "Epoch 14/100\n",
      "225/225 [==============================] - 0s 2ms/step - loss: 0.2432 - accuracy: 0.5572\n",
      "Epoch 15/100\n",
      "225/225 [==============================] - 0s 2ms/step - loss: 0.2425 - accuracy: 0.5636\n",
      "Epoch 16/100\n",
      "225/225 [==============================] - 0s 2ms/step - loss: 0.2500 - accuracy: 0.5091\n",
      "Epoch 17/100\n",
      "225/225 [==============================] - 0s 2ms/step - loss: 0.2493 - accuracy: 0.5060\n",
      "Epoch 18/100\n",
      "225/225 [==============================] - 0s 2ms/step - loss: 0.2464 - accuracy: 0.5299\n",
      "Epoch 19/100\n",
      "225/225 [==============================] - 0s 2ms/step - loss: 0.2448 - accuracy: 0.5371\n",
      "Epoch 20/100\n",
      "225/225 [==============================] - 0s 2ms/step - loss: 0.2448 - accuracy: 0.5503\n",
      "Epoch 21/100\n",
      "225/225 [==============================] - 0s 2ms/step - loss: 0.2451 - accuracy: 0.5251\n",
      "Epoch 22/100\n",
      "225/225 [==============================] - 0s 2ms/step - loss: 0.2484 - accuracy: 0.5101\n",
      "Epoch 23/100\n",
      "225/225 [==============================] - 0s 2ms/step - loss: 0.2485 - accuracy: 0.5203\n",
      "Epoch 24/100\n",
      "225/225 [==============================] - 0s 2ms/step - loss: 0.2499 - accuracy: 0.4960\n",
      "Epoch 25/100\n",
      "225/225 [==============================] - 0s 2ms/step - loss: 0.2502 - accuracy: 0.5019\n",
      "Epoch 26/100\n",
      "225/225 [==============================] - 0s 2ms/step - loss: 0.2502 - accuracy: 0.4973\n",
      "Epoch 27/100\n",
      "225/225 [==============================] - 0s 2ms/step - loss: 0.2502 - accuracy: 0.4937\n",
      "Epoch 28/100\n",
      "225/225 [==============================] - 0s 2ms/step - loss: 0.2501 - accuracy: 0.5076\n",
      "Epoch 29/100\n",
      "225/225 [==============================] - 0s 2ms/step - loss: 0.2497 - accuracy: 0.5096\n",
      "Epoch 30/100\n",
      "225/225 [==============================] - 0s 2ms/step - loss: 0.2476 - accuracy: 0.5333\n",
      "Epoch 31/100\n",
      "225/225 [==============================] - 0s 2ms/step - loss: 0.2465 - accuracy: 0.5533\n",
      "Epoch 32/100\n",
      "225/225 [==============================] - 0s 2ms/step - loss: 0.2458 - accuracy: 0.5372\n",
      "Epoch 33/100\n",
      "225/225 [==============================] - 0s 2ms/step - loss: 0.2464 - accuracy: 0.5198\n",
      "Epoch 34/100\n",
      "225/225 [==============================] - 0s 2ms/step - loss: 0.2460 - accuracy: 0.5266\n",
      "Epoch 35/100\n",
      "225/225 [==============================] - 0s 2ms/step - loss: 0.2489 - accuracy: 0.5047\n",
      "Epoch 36/100\n",
      "225/225 [==============================] - 0s 2ms/step - loss: 0.2501 - accuracy: 0.5044\n",
      "Epoch 37/100\n",
      "225/225 [==============================] - 0s 2ms/step - loss: 0.2503 - accuracy: 0.4995\n",
      "Epoch 38/100\n",
      "225/225 [==============================] - 0s 2ms/step - loss: 0.2503 - accuracy: 0.4970\n",
      "Epoch 39/100\n",
      "225/225 [==============================] - 0s 2ms/step - loss: 0.2501 - accuracy: 0.5035\n",
      "Epoch 40/100\n",
      "225/225 [==============================] - 0s 2ms/step - loss: 0.2502 - accuracy: 0.4928\n",
      "Epoch 41/100\n",
      "225/225 [==============================] - 1s 3ms/step - loss: 0.2501 - accuracy: 0.5006\n",
      "Epoch 42/100\n",
      "225/225 [==============================] - 1s 3ms/step - loss: 0.2500 - accuracy: 0.5092\n",
      "Epoch 43/100\n",
      "225/225 [==============================] - 1s 4ms/step - loss: 0.2474 - accuracy: 0.5390\n",
      "Epoch 44/100\n",
      "225/225 [==============================] - 1s 5ms/step - loss: 0.2456 - accuracy: 0.5393\n",
      "Epoch 45/100\n",
      "225/225 [==============================] - 1s 5ms/step - loss: 0.2442 - accuracy: 0.5472\n",
      "Epoch 46/100\n",
      "225/225 [==============================] - 1s 4ms/step - loss: 0.2455 - accuracy: 0.5394\n",
      "Epoch 47/100\n",
      "225/225 [==============================] - 1s 3ms/step - loss: 0.2453 - accuracy: 0.5244\n",
      "Epoch 48/100\n",
      "225/225 [==============================] - 1s 4ms/step - loss: 0.2446 - accuracy: 0.5267\n",
      "Epoch 49/100\n",
      "225/225 [==============================] - 2s 8ms/step - loss: 0.2448 - accuracy: 0.5269\n",
      "Epoch 50/100\n",
      "225/225 [==============================] - 1s 6ms/step - loss: 0.2447 - accuracy: 0.5298\n",
      "Epoch 51/100\n",
      "225/225 [==============================] - 1s 5ms/step - loss: 0.2445 - accuracy: 0.5296\n",
      "Epoch 52/100\n",
      "225/225 [==============================] - 1s 5ms/step - loss: 0.2445 - accuracy: 0.5269\n",
      "Epoch 53/100\n",
      "225/225 [==============================] - 1s 5ms/step - loss: 0.2445 - accuracy: 0.5297\n",
      "Epoch 54/100\n",
      "225/225 [==============================] - 1s 4ms/step - loss: 0.2444 - accuracy: 0.5333\n",
      "Epoch 55/100\n",
      "225/225 [==============================] - 1s 4ms/step - loss: 0.2443 - accuracy: 0.5350\n",
      "Epoch 56/100\n",
      "225/225 [==============================] - 0s 2ms/step - loss: 0.2444 - accuracy: 0.5287\n",
      "Epoch 57/100\n",
      "225/225 [==============================] - 0s 2ms/step - loss: 0.2444 - accuracy: 0.5315\n",
      "Epoch 58/100\n",
      "225/225 [==============================] - 0s 2ms/step - loss: 0.2445 - accuracy: 0.5306\n",
      "Epoch 59/100\n",
      "225/225 [==============================] - 0s 2ms/step - loss: 0.2444 - accuracy: 0.5328\n",
      "Epoch 60/100\n",
      "225/225 [==============================] - 1s 2ms/step - loss: 0.2443 - accuracy: 0.5344\n",
      "Epoch 61/100\n",
      "225/225 [==============================] - 0s 2ms/step - loss: 0.2495 - accuracy: 0.5048\n",
      "Epoch 62/100\n",
      "225/225 [==============================] - 1s 2ms/step - loss: 0.2504 - accuracy: 0.5031\n",
      "Epoch 63/100\n",
      "225/225 [==============================] - 1s 3ms/step - loss: 0.2502 - accuracy: 0.5007\n",
      "Epoch 64/100\n",
      "225/225 [==============================] - 1s 3ms/step - loss: 0.2502 - accuracy: 0.4986\n",
      "Epoch 65/100\n",
      "225/225 [==============================] - 1s 3ms/step - loss: 0.2502 - accuracy: 0.5015\n",
      "Epoch 66/100\n",
      "225/225 [==============================] - 1s 3ms/step - loss: 0.2502 - accuracy: 0.4962\n",
      "Epoch 67/100\n",
      "225/225 [==============================] - 1s 3ms/step - loss: 0.2501 - accuracy: 0.5013\n",
      "Epoch 68/100\n",
      "225/225 [==============================] - 1s 5ms/step - loss: 0.2503 - accuracy: 0.4990\n",
      "Epoch 69/100\n",
      "225/225 [==============================] - 1s 3ms/step - loss: 0.2502 - accuracy: 0.4991\n",
      "Epoch 70/100\n",
      "225/225 [==============================] - 1s 4ms/step - loss: 0.2500 - accuracy: 0.5078\n",
      "Epoch 71/100\n",
      "225/225 [==============================] - 1s 4ms/step - loss: 0.2503 - accuracy: 0.5057\n",
      "Epoch 72/100\n",
      "225/225 [==============================] - 1s 5ms/step - loss: 0.2501 - accuracy: 0.5045\n",
      "Epoch 73/100\n",
      "225/225 [==============================] - 2s 10ms/step - loss: 0.2501 - accuracy: 0.4955\n",
      "Epoch 74/100\n",
      "225/225 [==============================] - 1s 7ms/step - loss: 0.2501 - accuracy: 0.4946\n",
      "Epoch 75/100\n",
      "225/225 [==============================] - 1s 6ms/step - loss: 0.2500 - accuracy: 0.5056\n",
      "Epoch 76/100\n",
      "225/225 [==============================] - 1s 7ms/step - loss: 0.2501 - accuracy: 0.4974\n",
      "Epoch 77/100\n",
      "225/225 [==============================] - 2s 7ms/step - loss: 0.2501 - accuracy: 0.4924\n",
      "Epoch 78/100\n",
      "225/225 [==============================] - 2s 8ms/step - loss: 0.2501 - accuracy: 0.4969\n",
      "Epoch 79/100\n",
      "225/225 [==============================] - 1s 6ms/step - loss: 0.2503 - accuracy: 0.5024\n",
      "Epoch 80/100\n",
      "225/225 [==============================] - 1s 5ms/step - loss: 0.2500 - accuracy: 0.5051\n",
      "Epoch 81/100\n",
      "225/225 [==============================] - 1s 5ms/step - loss: 0.2500 - accuracy: 0.4957\n",
      "Epoch 82/100\n",
      "225/225 [==============================] - 1s 4ms/step - loss: 0.2501 - accuracy: 0.5019\n",
      "Epoch 83/100\n",
      "225/225 [==============================] - 1s 5ms/step - loss: 0.2502 - accuracy: 0.5018\n",
      "Epoch 84/100\n",
      "225/225 [==============================] - 1s 4ms/step - loss: 0.2502 - accuracy: 0.4946\n",
      "Epoch 85/100\n",
      "225/225 [==============================] - 1s 4ms/step - loss: 0.2501 - accuracy: 0.5011\n",
      "Epoch 86/100\n",
      "225/225 [==============================] - 1s 4ms/step - loss: 0.2500 - accuracy: 0.5049\n",
      "Epoch 87/100\n",
      "225/225 [==============================] - 1s 4ms/step - loss: 0.2497 - accuracy: 0.5027\n",
      "Epoch 88/100\n",
      "225/225 [==============================] - 1s 4ms/step - loss: 0.2500 - accuracy: 0.5099\n",
      "Epoch 89/100\n",
      "225/225 [==============================] - 1s 4ms/step - loss: 0.2501 - accuracy: 0.4996\n",
      "Epoch 90/100\n",
      "225/225 [==============================] - 1s 2ms/step - loss: 0.2500 - accuracy: 0.4962\n",
      "Epoch 91/100\n",
      "225/225 [==============================] - 0s 2ms/step - loss: 0.2501 - accuracy: 0.4998\n",
      "Epoch 92/100\n",
      "225/225 [==============================] - 1s 2ms/step - loss: 0.2500 - accuracy: 0.5007\n",
      "Epoch 93/100\n",
      "225/225 [==============================] - 1s 5ms/step - loss: 0.2500 - accuracy: 0.4997\n",
      "Epoch 94/100\n",
      "225/225 [==============================] - 1s 7ms/step - loss: 0.2500 - accuracy: 0.5003\n",
      "Epoch 95/100\n",
      "225/225 [==============================] - 2s 7ms/step - loss: 0.2500 - accuracy: 0.4991\n",
      "Epoch 96/100\n",
      "225/225 [==============================] - 2s 8ms/step - loss: 0.2500 - accuracy: 0.5017\n",
      "Epoch 97/100\n",
      "225/225 [==============================] - 1s 5ms/step - loss: 0.2501 - accuracy: 0.4970\n",
      "Epoch 98/100\n",
      "225/225 [==============================] - 1s 5ms/step - loss: 0.2501 - accuracy: 0.4963\n",
      "Epoch 99/100\n",
      "225/225 [==============================] - 1s 4ms/step - loss: 0.2491 - accuracy: 0.5183\n",
      "Epoch 100/100\n",
      "225/225 [==============================] - 1s 4ms/step - loss: 0.2462 - accuracy: 0.5297\n"
     ]
    },
    {
     "data": {
      "text/plain": [
       "<keras.callbacks.History at 0x7f96b53b95d0>"
      ]
     },
     "execution_count": 326,
     "metadata": {},
     "output_type": "execute_result"
    }
   ],
   "source": [
    "#train ANN\n",
    "model_cat = Sequential()\n",
    "model_cat.add(Dense(64, activation= 'sigmoid', input_shape = (X_train.shape[1],)))\n",
    "model_cat.add(Dense(16, activation= 'sigmoid'))\n",
    "model_cat.add(Dense(8, activation= 'sigmoid'))\n",
    "model_cat.add(Dense(2, activation = 'sigmoid'))\n",
    "\n",
    "model_cat.compile(loss = 'mse', optimizer = 'adam', metrics = ['accuracy'])\n",
    "model_cat.fit(X_train, y_train_cat, epochs = 100, batch_size = 64)"
   ]
  },
  {
   "cell_type": "code",
   "execution_count": 327,
   "metadata": {
    "colab": {
     "base_uri": "https://localhost:8080/"
    },
    "id": "aLmNublWJ6yc",
    "outputId": "47811981-9f4d-4a54-e79e-6e55e5aa60f7"
   },
   "outputs": [
    {
     "name": "stdout",
     "output_type": "stream",
     "text": [
      "113/113 [==============================] - 0s 1ms/step\n",
      "              precision    recall  f1-score   support\n",
      "\n",
      "           0       0.54      0.92      0.68      1813\n",
      "           1       0.71      0.21      0.32      1787\n",
      "\n",
      "    accuracy                           0.57      3600\n",
      "   macro avg       0.63      0.56      0.50      3600\n",
      "weighted avg       0.63      0.57      0.50      3600\n",
      "\n"
     ]
    }
   ],
   "source": [
    "# Evaluation\n",
    "y_pred = np.argmax(model_cat.predict(X_test), axis = 1)\n",
    "print(metrics.classification_report(y_test, y_pred))\n"
   ]
  },
  {
   "cell_type": "code",
   "execution_count": 329,
   "metadata": {
    "colab": {
     "base_uri": "https://localhost:8080/"
    },
    "id": "_vYWcBD-KsZR",
    "outputId": "a3962af6-ba80-4305-d6c6-4ede4b1d489e"
   },
   "outputs": [
    {
     "data": {
      "text/plain": [
       "array([[1661, 1413],\n",
       "       [ 152,  374]])"
      ]
     },
     "execution_count": 329,
     "metadata": {},
     "output_type": "execute_result"
    }
   ],
   "source": [
    "metrics.confusion_matrix(y_pred, y_test)"
   ]
  },
  {
   "cell_type": "markdown",
   "metadata": {
    "id": "idk_9A7K_geg"
   },
   "source": [
    "#### Overfitting and underfitting"
   ]
  },
  {
   "cell_type": "markdown",
   "metadata": {
    "id": "cVE9y0HmAVfB"
   },
   "source": [
    "![classic overfitting_0.webp](data:image/webp;base64,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)"
   ]
  },
  {
   "cell_type": "markdown",
   "metadata": {
    "id": "ZIdh4AREAiom"
   },
   "source": [
    "### Data modification"
   ]
  },
  {
   "cell_type": "markdown",
   "metadata": {
    "id": "i_enRKM5Amra"
   },
   "source": [
    "#### Feature selection"
   ]
  },
  {
   "cell_type": "code",
   "execution_count": 330,
   "metadata": {
    "colab": {
     "base_uri": "https://localhost:8080/"
    },
    "id": "8dlgelCCDliO",
    "outputId": "4a41a04c-41da-4de5-f6d2-27e4cce288d6"
   },
   "outputs": [
    {
     "name": "stdout",
     "output_type": "stream",
     "text": [
      "(1000, 10) (1000,)\n"
     ]
    }
   ],
   "source": [
    "# test classification dataset\n",
    "from sklearn.datasets import make_classification\n",
    "# define dataset\n",
    "X, y = make_classification(n_samples=1000, n_features=10, n_informative=5, n_redundant=5, random_state=1)\n",
    "# summarize the dataset\n",
    "print(X.shape, y.shape)"
   ]
  },
  {
   "cell_type": "code",
   "execution_count": 331,
   "metadata": {
    "colab": {
     "base_uri": "https://localhost:8080/",
     "height": 439
    },
    "id": "TzjuKHXEDpjA",
    "outputId": "b2d7f9cb-78ea-4e24-d9a3-3919c5108619"
   },
   "outputs": [
    {
     "name": "stdout",
     "output_type": "stream",
     "text": [
      "Feature: 0, Score: 0.02667\n",
      "Feature: 1, Score: 0.00979\n",
      "Feature: 2, Score: 0.17894\n",
      "Feature: 3, Score: 0.31165\n",
      "Feature: 4, Score: 0.08708\n",
      "Feature: 5, Score: 0.00567\n",
      "Feature: 6, Score: 0.18266\n",
      "Feature: 7, Score: 0.02803\n",
      "Feature: 8, Score: 0.13154\n",
      "Feature: 9, Score: 0.03799\n"
     ]
    },
    {
     "data": {
      "image/png": "[encoded data removed]",
      "text/plain": [
       "<Figure size 432x288 with 1 Axes>"
      ]
     },
     "metadata": {
      "needs_background": "light"
     },
     "output_type": "display_data"
    }
   ],
   "source": [
    "# decision tree for feature importance on a classification problem\n",
    "from sklearn.tree import DecisionTreeClassifier\n",
    "from matplotlib import pyplot\n",
    "# define the model\n",
    "model = DecisionTreeClassifier()\n",
    "# fit the model\n",
    "model.fit(X, y)\n",
    "# get importance\n",
    "importance = model.feature_importances_\n",
    "# summarize feature importance\n",
    "for i,v in enumerate(importance):\n",
    "\tprint('Feature: %0d, Score: %.5f' % (i,v))\n",
    "# plot feature importance\n",
    "pyplot.bar([x for x in range(len(importance))], importance)\n",
    "pyplot.show()"
   ]
  },
  {
   "cell_type": "code",
   "execution_count": 332,
   "metadata": {
    "colab": {
     "base_uri": "https://localhost:8080/",
     "height": 439
    },
    "id": "yanaWmOREDbX",
    "outputId": "1042671b-a09c-44b3-bcb8-eb335b9c92d8"
   },
   "outputs": [
    {
     "name": "stdout",
     "output_type": "stream",
     "text": [
      "Feature: 0, Score: 0.06402\n",
      "Feature: 1, Score: 0.11750\n",
      "Feature: 2, Score: 0.16442\n",
      "Feature: 3, Score: 0.17572\n",
      "Feature: 4, Score: 0.08262\n",
      "Feature: 5, Score: 0.11607\n",
      "Feature: 6, Score: 0.09861\n",
      "Feature: 7, Score: 0.05401\n",
      "Feature: 8, Score: 0.08474\n",
      "Feature: 9, Score: 0.04229\n"
     ]
    },
    {
     "data": {
      "image/png": "[encoded data removed]",
      "text/plain": [
       "<Figure size 432x288 with 1 Axes>"
      ]
     },
     "metadata": {
      "needs_background": "light"
     },
     "output_type": "display_data"
    }
   ],
   "source": [
    "# random forest for feature importance on a classification problem\n",
    "from sklearn.datasets import make_classification\n",
    "from sklearn.ensemble import RandomForestClassifier\n",
    "from matplotlib import pyplot\n",
    "# define the model\n",
    "model = RandomForestClassifier()\n",
    "# fit the model\n",
    "model.fit(X, y)\n",
    "# get importance\n",
    "importance = model.feature_importances_\n",
    "# summarize feature importance\n",
    "for i,v in enumerate(importance):\n",
    "\tprint('Feature: %0d, Score: %.5f' % (i,v))\n",
    "# plot feature importance\n",
    "pyplot.bar([x for x in range(len(importance))], importance)\n",
    "pyplot.show()"
   ]
  },
  {
   "cell_type": "markdown",
   "metadata": {
    "id": "9MB19XNVApx4"
   },
   "source": [
    "#### Feature extraction"
   ]
  },
  {
   "cell_type": "markdown",
   "metadata": {
    "id": "LQsre_s_FRwZ"
   },
   "source": [
    "![pca.PNG](data:image/png;base64,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)"
   ]
  },
  {
   "cell_type": "code",
   "execution_count": 333,
   "metadata": {
    "colab": {
     "base_uri": "https://localhost:8080/"
    },
    "id": "H692Yni0Alu8",
    "outputId": "bf780f14-e2cd-432b-c60e-28d9690a8fa5"
   },
   "outputs": [
    {
     "name": "stdout",
     "output_type": "stream",
     "text": [
      "(1000, 10)\n",
      "(1000, 2)\n"
     ]
    }
   ],
   "source": [
    "from sklearn.decomposition import PCA\n",
    "pca = PCA(n_components=2)\n",
    "principalComponents = pca.fit_transform(X)\n",
    "print(X.shape)\n",
    "print(principalComponents.shape)"
   ]
  },
  {
   "cell_type": "markdown",
   "metadata": {
    "id": "uKUF79NVAuFQ"
   },
   "source": [
    "#### Representation learning"
   ]
  },
  {
   "cell_type": "markdown",
   "metadata": {
    "id": "Oe3TtJcqIWyW"
   },
   "source": [
    "**Useful resources:**\n",
    "* Deep learning (https://machinelearningmastery.com/)\n",
    "* Tutorials:\n",
    "  * https://towardsdatascience.com/\n",
    "  * https://www.datacamp.com/\n",
    "* YouTube channel: codebasics (https://www.youtube.com/channel/UCh9nVJoWXmFb7sLApWGcLPQ)\n"
   ]
  },
  {
   "cell_type": "code",
   "execution_count": null,
   "metadata": {
    "id": "DHXIxzqIAtcc"
   },
   "outputs": [],
   "source": []
  }
 ],
 "metadata": {
  "colab": {
   "collapsed_sections": [
    "-WVKwJZA2E6D",
    "YNDdG-Z528Cn",
    "ghHc1uDn4IKq",
    "uLWNUGonHnE5",
    "dv52OfsxJN3j",
    "T6ZNTyyKJ_Fb",
    "C_xvKLokpx0H"
   ],
   "provenance": []
  },
  "kernelspec": {
   "display_name": "Python 3 (ipykernel)",
   "language": "python",
   "name": "python3"
  },
  "language_info": {
   "codemirror_mode": {
    "name": "ipython",
    "version": 3
   },
   "file_extension": ".py",
   "mimetype": "text/x-python",
   "name": "python",
   "nbconvert_exporter": "python",
   "pygments_lexer": "ipython3",
   "version": "3.9.16"
  }
 },
 "nbformat": 4,
 "nbformat_minor": 1
}
